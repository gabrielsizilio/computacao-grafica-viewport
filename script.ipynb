{
 "cells": [
  {
   "cell_type": "markdown",
   "id": "a2df3f41",
   "metadata": {},
   "source": [
    "## Instalação Dependencias"
   ]
  },
  {
   "cell_type": "code",
   "execution_count": null,
   "id": "05dc4556",
   "metadata": {
    "scrolled": false
   },
   "outputs": [],
   "source": [
    "pip install PyQt5\n"
   ]
  },
  {
   "cell_type": "markdown",
   "id": "c054f9f5",
   "metadata": {},
   "source": [
    "## Classes"
   ]
  },
  {
   "cell_type": "code",
   "execution_count": null,
   "id": "ff9cd4c4",
   "metadata": {},
   "outputs": [],
   "source": [
    "class Window:\n",
    "    def __init__(self, x_min, y_min, x_max, y_max):\n",
    "        self.x_min = x_min\n",
    "        self.y_min = y_min\n",
    "        self.x_max = x_max\n",
    "        self.y_max = y_max\n",
    "\n",
    "class Viewport:\n",
    "    def __init__(self, x_min, y_min, x_max, y_max):\n",
    "        self.x_min = x_min\n",
    "        self.y_min = y_min\n",
    "        self.x_max = x_max\n",
    "        self.y_max = y_max\n",
    "        \n",
    "class Ponto:\n",
    "    def __init__(self, x, y):\n",
    "        self.x = x\n",
    "        self.y = y\n",
    "\n",
    "class Reta:\n",
    "    def __init__(self, ponto1, ponto2):\n",
    "        self.ponto1 = ponto1\n",
    "        self.ponto2 = ponto2\n",
    "        \n",
    "class Poligono:\n",
    "    def __init__(self, pontos):\n",
    "        self.pontos = pontos "
   ]
  },
  {
   "cell_type": "markdown",
   "id": "7d7c3e9f",
   "metadata": {},
   "source": [
    "## Parser XML"
   ]
  },
  {
   "cell_type": "code",
   "execution_count": null,
   "id": "fa2b69fc",
   "metadata": {},
   "outputs": [],
   "source": [
    "import os\n",
    "import xml.etree.ElementTree as ET"
   ]
  },
  {
   "cell_type": "code",
   "execution_count": null,
   "id": "874c5c11",
   "metadata": {},
   "outputs": [],
   "source": [
    "class Parser:\n",
    "    @staticmethod\n",
    "    def parse_xml_file(filename):\n",
    "        tree = ET.parse(filename)\n",
    "        root = tree.getroot()\n",
    "\n",
    "        objetos = []\n",
    "        \n",
    "        vp_min = root.find(\"./viewport/vpmin\")\n",
    "        vp_max = root.find(\"./viewport/vpmax\")\n",
    "        viewport = Viewport(int(vp_min.attrib['x']), int(vp_min.attrib['y']), int(vp_max.attrib['x']), int(vp_max.attrib['y']))\n",
    "\n",
    "    \n",
    "        w_min = root.find(\"./window/wmin\")\n",
    "        w_max = root.find(\"./window/wmax\")\n",
    "        window = Window(float(w_min.attrib['x']), float(w_min.attrib['y']), float(w_max.attrib['x']), float(w_max.attrib['y']))\n",
    "\n",
    "        for ponto in root.findall(\"./ponto\"):\n",
    "            objetos.append(Ponto(float(ponto.attrib['x']), float(ponto.attrib['y'])))\n",
    "\n",
    "        for reta in root.findall(\"./reta\"):\n",
    "            ponto1 = reta.find(\"ponto[1]\")\n",
    "            ponto2 = reta.find(\"ponto[2]\")\n",
    "            objetos.append(Reta(Ponto(float(ponto1.attrib['x']), float(ponto1.attrib['y'])), Ponto(float(ponto2.attrib['x']), float(ponto2.attrib['y']))))\n",
    "\n",
    "        for poligono in root.findall(\"./poligono\"):\n",
    "            pontos = []\n",
    "            for ponto in poligono.findall(\"ponto\"):\n",
    "                pontos.append(Ponto(float(ponto.attrib['x']), float(ponto.attrib['y'])))\n",
    "            objetos.append(Poligono(pontos))\n",
    "            \n",
    "        return viewport, window, objetos\n",
    "\n",
    "    @staticmethod\n",
    "    def write_to_xml_file(objects):\n",
    "        root = ET.Element(\"objects\")\n",
    "\n",
    "        for obj in objects:\n",
    "            if isinstance(obj, Ponto):\n",
    "                point_elem = ET.SubElement(root, \"point\")\n",
    "                point_elem.set(\"x\", str(obj.x))\n",
    "                point_elem.set(\"y\", str(obj.y))\n",
    "            elif isinstance(obj, Reta):\n",
    "                line_elem = ET.SubElement(root, \"line\")\n",
    "                point1_elem = ET.SubElement(line_elem, \"point1\")\n",
    "                point1_elem.set(\"x\", str(obj.ponto1.x))\n",
    "                point1_elem.set(\"y\", str(obj.ponto1.y))\n",
    "                point2_elem = ET.SubElement(line_elem, \"point2\")\n",
    "                point2_elem.set(\"x\", str(obj.ponto2.x))\n",
    "                point2_elem.set(\"y\", str(obj.ponto2.y))\n",
    "            elif isinstance(obj, Poligono):\n",
    "                polygon_elem = ET.SubElement(root, \"polygon\")\n",
    "                for point in obj.pontos:\n",
    "                    point_elem = ET.SubElement(polygon_elem, \"point\")\n",
    "                    point_elem.set(\"x\", str(point.x))\n",
    "                    point_elem.set(\"y\", str(point.y))\n",
    "\n",
    "        Parser.indent_xml_file(root)\n",
    "        \n",
    "        tree = ET.ElementTree(root)\n",
    "        output_file = os.path.join(\"output\", \"saida.xml\")\n",
    "        tree.write(output_file, xml_declaration=True)\n",
    "        \n",
    "\n",
    "    @staticmethod\n",
    "    def indent_xml_file(elem, level=0):\n",
    "        indent_size = 4\n",
    "        i = \"\\n\" + level * \" \" * indent_size\n",
    "        if len(elem):\n",
    "            if not elem.text or not elem.text.strip():\n",
    "                elem.text = i + \" \" * indent_size\n",
    "            if not elem.tail or not elem.tail.strip():\n",
    "                elem.tail = i\n",
    "            for elem in elem:\n",
    "                Parser.indent_xml_file(elem, level + 1)\n",
    "            if not elem.tail or not elem.tail.strip():\n",
    "                elem.tail = i\n",
    "        else:\n",
    "            if level and (not elem.tail or not elem.tail.strip()):\n",
    "                elem.tail = i\n"
   ]
  },
  {
   "cell_type": "markdown",
   "id": "bab87b99",
   "metadata": {},
   "source": [
    "## Viewport transform objects"
   ]
  },
  {
   "cell_type": "code",
   "execution_count": null,
   "id": "9c3fd9c8",
   "metadata": {},
   "outputs": [],
   "source": [
    "class ViewportTransform():\n",
    "    def apply_transform(self, window, viewport, objects):\n",
    "        transformed_objects = []\n",
    "        \n",
    "        for objeto in objects:\n",
    "            if isinstance(objeto, Ponto):\n",
    "                transformed_objects.append(self.transform_to_viewport_coordinates(viewport, window, objeto))\n",
    "            elif isinstance(objeto, Reta):\n",
    "                objeto.ponto1 = self.transform_to_viewport_coordinates(viewport, window, objeto.ponto1)\n",
    "                objeto.ponto2 = self.transform_to_viewport_coordinates(viewport, window, objeto.ponto2)\n",
    "                transformed_objects.append(objeto)\n",
    "            elif isinstance(objeto, Poligono):\n",
    "                pontos_transformados = [self.transform_to_viewport_coordinates(viewport, window, ponto) for ponto in objeto.pontos]\n",
    "                objeto.pontos = pontos_transformados\n",
    "                transformed_objects.append(objeto)\n",
    "\n",
    "        return transformed_objects\n",
    "    \n",
    "    def transform_to_viewport_coordinates(self, viewport: Viewport, window: Window, ponto: Ponto):\n",
    "            x_vp = ((ponto.x - window.x_min)/(window.x_max - window.x_min))*(viewport.x_max - viewport.x_min)\n",
    "            y_vp = (1 - ((ponto.y - window.y_min)/(window.y_max - window.y_min)))*(viewport.y_max - viewport.y_min)\n",
    "                \n",
    "            return Ponto(x_vp, y_vp)\n",
    "    "
   ]
  },
  {
   "cell_type": "markdown",
   "id": "28af8ba4",
   "metadata": {},
   "source": [
    "## Viewport"
   ]
  },
  {
   "cell_type": "code",
   "execution_count": null,
   "id": "fc05a5d4",
   "metadata": {},
   "outputs": [
    {
     "ename": "ModuleNotFoundError",
     "evalue": "No module named 'matplotlib'",
     "output_type": "error",
     "traceback": [
      "\u001b[0;31m---------------------------------------------------------------------------\u001b[0m",
      "\u001b[0;31mModuleNotFoundError\u001b[0m                       Traceback (most recent call last)",
      "Cell \u001b[0;32mIn[14], line 1\u001b[0m\n\u001b[0;32m----> 1\u001b[0m \u001b[43mget_ipython\u001b[49m\u001b[43m(\u001b[49m\u001b[43m)\u001b[49m\u001b[38;5;241;43m.\u001b[39;49m\u001b[43mrun_line_magic\u001b[49m\u001b[43m(\u001b[49m\u001b[38;5;124;43m'\u001b[39;49m\u001b[38;5;124;43mmatplotlib\u001b[39;49m\u001b[38;5;124;43m'\u001b[39;49m\u001b[43m,\u001b[49m\u001b[43m \u001b[49m\u001b[38;5;124;43m'\u001b[39;49m\u001b[38;5;124;43mqt\u001b[39;49m\u001b[38;5;124;43m'\u001b[39;49m\u001b[43m)\u001b[49m\n\u001b[1;32m      2\u001b[0m \u001b[38;5;28;01mfrom\u001b[39;00m \u001b[38;5;21;01mPyQt5\u001b[39;00m\u001b[38;5;21;01m.\u001b[39;00m\u001b[38;5;21;01mQtWidgets\u001b[39;00m \u001b[38;5;28;01mimport\u001b[39;00m QApplication, QLabel, QMainWindow\n\u001b[1;32m      3\u001b[0m \u001b[38;5;28;01mfrom\u001b[39;00m \u001b[38;5;21;01mPyQt5\u001b[39;00m\u001b[38;5;21;01m.\u001b[39;00m\u001b[38;5;21;01mQtGui\u001b[39;00m \u001b[38;5;28;01mimport\u001b[39;00m QPainter, QPen, QPixmap\n",
      "File \u001b[0;32m/mnt/01DAA14342CE0650/Faculdade/7-periodo/computacao-grafica/trabalho-pratico/computacao-grafica-viewport/environment/lib/python3.12/site-packages/IPython/core/interactiveshell.py:2480\u001b[0m, in \u001b[0;36mInteractiveShell.run_line_magic\u001b[0;34m(self, magic_name, line, _stack_depth)\u001b[0m\n\u001b[1;32m   2478\u001b[0m     kwargs[\u001b[38;5;124m'\u001b[39m\u001b[38;5;124mlocal_ns\u001b[39m\u001b[38;5;124m'\u001b[39m] \u001b[38;5;241m=\u001b[39m \u001b[38;5;28mself\u001b[39m\u001b[38;5;241m.\u001b[39mget_local_scope(stack_depth)\n\u001b[1;32m   2479\u001b[0m \u001b[38;5;28;01mwith\u001b[39;00m \u001b[38;5;28mself\u001b[39m\u001b[38;5;241m.\u001b[39mbuiltin_trap:\n\u001b[0;32m-> 2480\u001b[0m     result \u001b[38;5;241m=\u001b[39m \u001b[43mfn\u001b[49m\u001b[43m(\u001b[49m\u001b[38;5;241;43m*\u001b[39;49m\u001b[43margs\u001b[49m\u001b[43m,\u001b[49m\u001b[43m \u001b[49m\u001b[38;5;241;43m*\u001b[39;49m\u001b[38;5;241;43m*\u001b[39;49m\u001b[43mkwargs\u001b[49m\u001b[43m)\u001b[49m\n\u001b[1;32m   2482\u001b[0m \u001b[38;5;66;03m# The code below prevents the output from being displayed\u001b[39;00m\n\u001b[1;32m   2483\u001b[0m \u001b[38;5;66;03m# when using magics with decorator @output_can_be_silenced\u001b[39;00m\n\u001b[1;32m   2484\u001b[0m \u001b[38;5;66;03m# when the last Python token in the expression is a ';'.\u001b[39;00m\n\u001b[1;32m   2485\u001b[0m \u001b[38;5;28;01mif\u001b[39;00m \u001b[38;5;28mgetattr\u001b[39m(fn, magic\u001b[38;5;241m.\u001b[39mMAGIC_OUTPUT_CAN_BE_SILENCED, \u001b[38;5;28;01mFalse\u001b[39;00m):\n",
      "File \u001b[0;32m/mnt/01DAA14342CE0650/Faculdade/7-periodo/computacao-grafica/trabalho-pratico/computacao-grafica-viewport/environment/lib/python3.12/site-packages/IPython/core/magics/pylab.py:103\u001b[0m, in \u001b[0;36mPylabMagics.matplotlib\u001b[0;34m(self, line)\u001b[0m\n\u001b[1;32m     98\u001b[0m     \u001b[38;5;28mprint\u001b[39m(\n\u001b[1;32m     99\u001b[0m         \u001b[38;5;124m\"\u001b[39m\u001b[38;5;124mAvailable matplotlib backends: \u001b[39m\u001b[38;5;132;01m%s\u001b[39;00m\u001b[38;5;124m\"\u001b[39m\n\u001b[1;32m    100\u001b[0m         \u001b[38;5;241m%\u001b[39m _list_matplotlib_backends_and_gui_loops()\n\u001b[1;32m    101\u001b[0m     )\n\u001b[1;32m    102\u001b[0m \u001b[38;5;28;01melse\u001b[39;00m:\n\u001b[0;32m--> 103\u001b[0m     gui, backend \u001b[38;5;241m=\u001b[39m \u001b[38;5;28;43mself\u001b[39;49m\u001b[38;5;241;43m.\u001b[39;49m\u001b[43mshell\u001b[49m\u001b[38;5;241;43m.\u001b[39;49m\u001b[43menable_matplotlib\u001b[49m\u001b[43m(\u001b[49m\u001b[43margs\u001b[49m\u001b[38;5;241;43m.\u001b[39;49m\u001b[43mgui\u001b[49m\u001b[38;5;241;43m.\u001b[39;49m\u001b[43mlower\u001b[49m\u001b[43m(\u001b[49m\u001b[43m)\u001b[49m\u001b[43m \u001b[49m\u001b[38;5;28;43;01mif\u001b[39;49;00m\u001b[43m \u001b[49m\u001b[38;5;28;43misinstance\u001b[39;49m\u001b[43m(\u001b[49m\u001b[43margs\u001b[49m\u001b[38;5;241;43m.\u001b[39;49m\u001b[43mgui\u001b[49m\u001b[43m,\u001b[49m\u001b[43m \u001b[49m\u001b[38;5;28;43mstr\u001b[39;49m\u001b[43m)\u001b[49m\u001b[43m \u001b[49m\u001b[38;5;28;43;01melse\u001b[39;49;00m\u001b[43m \u001b[49m\u001b[43margs\u001b[49m\u001b[38;5;241;43m.\u001b[39;49m\u001b[43mgui\u001b[49m\u001b[43m)\u001b[49m\n\u001b[1;32m    104\u001b[0m     \u001b[38;5;28mself\u001b[39m\u001b[38;5;241m.\u001b[39m_show_matplotlib_backend(args\u001b[38;5;241m.\u001b[39mgui, backend)\n",
      "File \u001b[0;32m/mnt/01DAA14342CE0650/Faculdade/7-periodo/computacao-grafica/trabalho-pratico/computacao-grafica-viewport/environment/lib/python3.12/site-packages/IPython/core/interactiveshell.py:3665\u001b[0m, in \u001b[0;36mInteractiveShell.enable_matplotlib\u001b[0;34m(self, gui)\u001b[0m\n\u001b[1;32m   3662\u001b[0m     \u001b[38;5;28;01mimport\u001b[39;00m \u001b[38;5;21;01mmatplotlib_inline\u001b[39;00m\u001b[38;5;21;01m.\u001b[39;00m\u001b[38;5;21;01mbackend_inline\u001b[39;00m\n\u001b[1;32m   3664\u001b[0m \u001b[38;5;28;01mfrom\u001b[39;00m \u001b[38;5;21;01mIPython\u001b[39;00m\u001b[38;5;21;01m.\u001b[39;00m\u001b[38;5;21;01mcore\u001b[39;00m \u001b[38;5;28;01mimport\u001b[39;00m pylabtools \u001b[38;5;28;01mas\u001b[39;00m pt\n\u001b[0;32m-> 3665\u001b[0m gui, backend \u001b[38;5;241m=\u001b[39m \u001b[43mpt\u001b[49m\u001b[38;5;241;43m.\u001b[39;49m\u001b[43mfind_gui_and_backend\u001b[49m\u001b[43m(\u001b[49m\u001b[43mgui\u001b[49m\u001b[43m,\u001b[49m\u001b[43m \u001b[49m\u001b[38;5;28;43mself\u001b[39;49m\u001b[38;5;241;43m.\u001b[39;49m\u001b[43mpylab_gui_select\u001b[49m\u001b[43m)\u001b[49m\n\u001b[1;32m   3667\u001b[0m \u001b[38;5;28;01mif\u001b[39;00m gui \u001b[38;5;241m!=\u001b[39m \u001b[38;5;28;01mNone\u001b[39;00m:\n\u001b[1;32m   3668\u001b[0m     \u001b[38;5;66;03m# If we have our first gui selection, store it\u001b[39;00m\n\u001b[1;32m   3669\u001b[0m     \u001b[38;5;28;01mif\u001b[39;00m \u001b[38;5;28mself\u001b[39m\u001b[38;5;241m.\u001b[39mpylab_gui_select \u001b[38;5;129;01mis\u001b[39;00m \u001b[38;5;28;01mNone\u001b[39;00m:\n",
      "File \u001b[0;32m/mnt/01DAA14342CE0650/Faculdade/7-periodo/computacao-grafica/trabalho-pratico/computacao-grafica-viewport/environment/lib/python3.12/site-packages/IPython/core/pylabtools.py:338\u001b[0m, in \u001b[0;36mfind_gui_and_backend\u001b[0;34m(gui, gui_select)\u001b[0m\n\u001b[1;32m    321\u001b[0m \u001b[38;5;28;01mdef\u001b[39;00m \u001b[38;5;21mfind_gui_and_backend\u001b[39m(gui\u001b[38;5;241m=\u001b[39m\u001b[38;5;28;01mNone\u001b[39;00m, gui_select\u001b[38;5;241m=\u001b[39m\u001b[38;5;28;01mNone\u001b[39;00m):\n\u001b[1;32m    322\u001b[0m \u001b[38;5;250m    \u001b[39m\u001b[38;5;124;03m\"\"\"Given a gui string return the gui and mpl backend.\u001b[39;00m\n\u001b[1;32m    323\u001b[0m \n\u001b[1;32m    324\u001b[0m \u001b[38;5;124;03m    Parameters\u001b[39;00m\n\u001b[0;32m   (...)\u001b[0m\n\u001b[1;32m    335\u001b[0m \u001b[38;5;124;03m    'WXAgg','Qt4Agg','module://matplotlib_inline.backend_inline','agg').\u001b[39;00m\n\u001b[1;32m    336\u001b[0m \u001b[38;5;124;03m    \"\"\"\u001b[39;00m\n\u001b[0;32m--> 338\u001b[0m     \u001b[38;5;28;01mimport\u001b[39;00m \u001b[38;5;21;01mmatplotlib\u001b[39;00m\n\u001b[1;32m    340\u001b[0m     \u001b[38;5;28;01mif\u001b[39;00m _matplotlib_manages_backends():\n\u001b[1;32m    341\u001b[0m         backend_registry \u001b[38;5;241m=\u001b[39m matplotlib\u001b[38;5;241m.\u001b[39mbackends\u001b[38;5;241m.\u001b[39mregistry\u001b[38;5;241m.\u001b[39mbackend_registry\n",
      "\u001b[0;31mModuleNotFoundError\u001b[0m: No module named 'matplotlib'"
     ]
    }
   ],
   "source": [
    "%matplotlib qt\n",
    "from PyQt5.QtWidgets import QApplication, QLabel, QMainWindow\n",
    "from PyQt5.QtGui import QPainter, QPen, QPixmap\n",
    "from PyQt5.QtCore import Qt"
   ]
  },
  {
   "cell_type": "code",
   "execution_count": null,
   "id": "df37cc19",
   "metadata": {},
   "outputs": [],
   "source": [
    "class Render(QMainWindow):\n",
    "    def __init__(self, viewport: Viewport):\n",
    "        super().__init__()\n",
    "        \n",
    "        self.setWindowTitle(\"Computação Gráfica\")\n",
    "        self.setGeometry(viewport.x_min-20, viewport.y_min-20, viewport.x_max+20, viewport.y_max+20)\n",
    "\n",
    "        #viewport\n",
    "        self.label = QLabel(self)\n",
    "        self.label.setGeometry(viewport.x_min-10, viewport.y_min-10, viewport.x_max+10, viewport.y_max+10)\n",
    "        \n",
    "        #desenho\n",
    "        self.pixmap = QPixmap(self.label.size())\n",
    "        self.pixmap.fill(Qt.white)\n",
    "        self.painter = QPainter(self.pixmap)\n",
    "        pen = QPen(Qt.black)\n",
    "        pen.setWidth(2)\n",
    "        self.painter.setPen(pen)\n",
    "        \n",
    "    def draw_line(self, reta:Reta):\n",
    "        pixmap = self.label.pixmap()\n",
    "        if not pixmap:\n",
    "            pixmap = QPixmap(self.label.size())\n",
    "            pixmap.fill(Qt.white)\n",
    "\n",
    "        painter = QPainter(pixmap)\n",
    "        pen = QPen(Qt.black)\n",
    "        pen.setWidth(2)\n",
    "        painter.setPen(pen)\n",
    "        \n",
    "        painter.drawLine(int(reta.ponto1.x), int(reta.ponto1.y), int(reta.ponto2.x), int(reta.ponto2.y))\n",
    "        self.label.setPixmap(pixmap)\n",
    "\n",
    "        painter.end()\n",
    "        \n",
    "    def draw_polygon(self, poligono:Poligono):\n",
    "            pontoOrigin = poligono.pontos[0]\n",
    "            \n",
    "            for i in range(0, int(len(poligono.pontos))):\n",
    "                if i == len(poligono.pontos)-1:\n",
    "                    self.draw_line(Reta(poligono.pontos[i], pontoOrigin))\n",
    "                else:\n",
    "                    self.draw_line(Reta(poligono.pontos[i], poligono.pontos[i+1]))\n",
    "                \n",
    "    def draw_point(self, ponto:Ponto):\n",
    "        pixmap = self.label.pixmap()\n",
    "        if not pixmap:\n",
    "            pixmap = QPixmap(self.label.size())\n",
    "            pixmap.fill(Qt.white)\n",
    "\n",
    "        painter = QPainter(pixmap)\n",
    "        pen = QPen(Qt.black)\n",
    "        pen.setWidth(2)\n",
    "        painter.setPen(pen)\n",
    "        \n",
    "        painter.drawPoint(int(ponto.x), int(ponto.y))\n",
    "        self.label.setPixmap(pixmap)\n",
    "        \n",
    "        painter.end()\n",
    "    \n",
    "    def render_objects(self, objects):\n",
    "        for object in objects:\n",
    "            if isinstance(object, Ponto):\n",
    "                self.draw_point(object)\n",
    "            elif isinstance(object, Reta):\n",
    "                self.draw_line(object)\n",
    "            elif isinstance(object, Poligono):\n",
    "                self.draw_polygon(object)"
   ]
  },
  {
   "cell_type": "markdown",
   "id": "c2c8a2f1",
   "metadata": {},
   "source": [
    "## Main"
   ]
  },
  {
   "cell_type": "code",
   "execution_count": null,
   "id": "4f51a8bf",
   "metadata": {},
   "outputs": [],
   "source": [
    "class main():\n",
    "    \n",
    "    viewport, window, objetos = Parser.parse_xml_file(\"./input/entrada.xml\")\n",
    "\n",
    "    transform = ViewportTransform()\n",
    "    transformed_objects = transform.apply_transform(window, viewport, objects=objetos)\n",
    "\n",
    "    window = Render(viewport)\n",
    "    window.render_objects(transformed_objects)\n",
    "    window.show()\n",
    "    Parser.write_to_xml_file(transformed_objects)\n",
    "\n",
    "if __name__ == \"main\":\n",
    "    main()"
   ]
  }
 ],
 "metadata": {
  "kernelspec": {
   "display_name": "Python 3 (ipykernel)",
   "language": "python",
   "name": "python3"
  },
  "language_info": {
   "codemirror_mode": {
    "name": "ipython",
    "version": 3
   },
   "file_extension": ".py",
   "mimetype": "text/x-python",
   "name": "python",
   "nbconvert_exporter": "python",
   "pygments_lexer": "ipython3",
   "version": "3.12.3"
  }
 },
 "nbformat": 4,
 "nbformat_minor": 5
}
