{
 "cells": [
  {
   "cell_type": "markdown",
   "id": "a2df3f41",
   "metadata": {},
   "source": [
    "## Instalação Dependencias"
   ]
  },
  {
   "cell_type": "code",
   "execution_count": 1,
   "id": "05dc4556",
   "metadata": {
    "scrolled": false
   },
   "outputs": [
    {
     "name": "stdout",
     "output_type": "stream",
     "text": [
      "Requirement already satisfied: PyQt5 in c:\\users\\yodem\\anaconda3\\lib\\site-packages (5.15.7)\n",
      "Requirement already satisfied: PyQt5-sip<13,>=12.11 in c:\\users\\yodem\\anaconda3\\lib\\site-packages (from PyQt5) (12.11.0)\n",
      "Note: you may need to restart the kernel to use updated packages.\n"
     ]
    }
   ],
   "source": [
    "pip install PyQt5\n"
   ]
  },
  {
   "cell_type": "markdown",
   "id": "c054f9f5",
   "metadata": {},
   "source": [
    "## Classes"
   ]
  },
  {
   "cell_type": "code",
   "execution_count": 2,
   "id": "ff9cd4c4",
   "metadata": {},
   "outputs": [],
   "source": [
    "class Window:\n",
    "    def __init__(self, x_min, y_min, x_max, y_max):\n",
    "        self.x_min = x_min\n",
    "        self.y_min = y_min\n",
    "        self.x_max = x_max\n",
    "        self.y_max = y_max\n",
    "\n",
    "class Viewport:\n",
    "    def __init__(self, x_min, y_min, x_max, y_max):\n",
    "        self.x_min = x_min\n",
    "        self.y_min = y_min\n",
    "        self.x_max = x_max\n",
    "        self.y_max = y_max\n",
    "        \n",
    "class Ponto:\n",
    "    def __init__(self, x, y):\n",
    "        self.x = x\n",
    "        self.y = y\n",
    "\n",
    "class Reta:\n",
    "    def __init__(self, ponto1, ponto2):\n",
    "        self.ponto1 = ponto1\n",
    "        self.ponto2 = ponto2\n",
    "        \n",
    "class Poligono:\n",
    "    def __init__(self, pontos):\n",
    "        self.pontos = pontos "
   ]
  },
  {
   "cell_type": "markdown",
   "id": "7d7c3e9f",
   "metadata": {},
   "source": [
    "## Parser XML"
   ]
  },
  {
   "cell_type": "code",
   "execution_count": 3,
   "id": "fa2b69fc",
   "metadata": {},
   "outputs": [],
   "source": [
    "import os\n",
    "import xml.etree.ElementTree as ET"
   ]
  },
  {
   "cell_type": "code",
   "execution_count": 4,
   "id": "874c5c11",
   "metadata": {},
   "outputs": [],
   "source": [
    "class Parser:\n",
    "    @staticmethod\n",
    "    def parse_xml_file(filename):\n",
    "        tree = ET.parse(filename)\n",
    "        root = tree.getroot()\n",
    "\n",
    "        objetos = []\n",
    "        \n",
    "        vp_min = root.find(\"./viewport/vpmin\")\n",
    "        vp_max = root.find(\"./viewport/vpmax\")\n",
    "        viewport = Viewport(int(vp_min.attrib['x']), int(vp_min.attrib['y']), int(vp_max.attrib['x']), int(vp_max.attrib['y']))\n",
    "\n",
    "    \n",
    "        w_min = root.find(\"./window/wmin\")\n",
    "        w_max = root.find(\"./window/wmax\")\n",
    "        window = Window(float(w_min.attrib['x']), float(w_min.attrib['y']), float(w_max.attrib['x']), float(w_max.attrib['y']))\n",
    "\n",
    "        for ponto in root.findall(\"./ponto\"):\n",
    "            objetos.append(Ponto(float(ponto.attrib['x']), float(ponto.attrib['y'])))\n",
    "\n",
    "        for reta in root.findall(\"./reta\"):\n",
    "            ponto1 = reta.find(\"ponto[1]\")\n",
    "            ponto2 = reta.find(\"ponto[2]\")\n",
    "            objetos.append(Reta(Ponto(float(ponto1.attrib['x']), float(ponto1.attrib['y'])), Ponto(float(ponto2.attrib['x']), float(ponto2.attrib['y']))))\n",
    "\n",
    "        for poligono in root.findall(\"./poligono\"):\n",
    "            pontos = []\n",
    "            for ponto in poligono.findall(\"ponto\"):\n",
    "                pontos.append(Ponto(float(ponto.attrib['x']), float(ponto.attrib['y'])))\n",
    "            objetos.append(Poligono(pontos))\n",
    "            \n",
    "        return viewport, window, objetos\n",
    "\n",
    "    @staticmethod\n",
    "    def write_to_xml_file(objects):\n",
    "        root = ET.Element(\"objects\")\n",
    "\n",
    "        for obj in objects:\n",
    "            if isinstance(obj, Ponto):\n",
    "                point_elem = ET.SubElement(root, \"point\")\n",
    "                point_elem.set(\"x\", str(obj.x))\n",
    "                point_elem.set(\"y\", str(obj.y))\n",
    "            elif isinstance(obj, Reta):\n",
    "                line_elem = ET.SubElement(root, \"line\")\n",
    "                point1_elem = ET.SubElement(line_elem, \"point1\")\n",
    "                point1_elem.set(\"x\", str(obj.ponto1.x))\n",
    "                point1_elem.set(\"y\", str(obj.ponto1.y))\n",
    "                point2_elem = ET.SubElement(line_elem, \"point2\")\n",
    "                point2_elem.set(\"x\", str(obj.ponto2.x))\n",
    "                point2_elem.set(\"y\", str(obj.ponto2.y))\n",
    "            elif isinstance(obj, Poligono):\n",
    "                polygon_elem = ET.SubElement(root, \"polygon\")\n",
    "                for point in obj.pontos:\n",
    "                    point_elem = ET.SubElement(polygon_elem, \"point\")\n",
    "                    point_elem.set(\"x\", str(point.x))\n",
    "                    point_elem.set(\"y\", str(point.y))\n",
    "\n",
    "        Parser.indent_xml_file(root)\n",
    "        \n",
    "        tree = ET.ElementTree(root)\n",
    "        output_file = os.path.join(\"output\", \"saida.xml\")\n",
    "        tree.write(output_file, xml_declaration=True)\n",
    "        \n",
    "\n",
    "    @staticmethod\n",
    "    def indent_xml_file(elem, level=0):\n",
    "        indent_size = 4\n",
    "        i = \"\\n\" + level * \" \" * indent_size\n",
    "        if len(elem):\n",
    "            if not elem.text or not elem.text.strip():\n",
    "                elem.text = i + \" \" * indent_size\n",
    "            if not elem.tail or not elem.tail.strip():\n",
    "                elem.tail = i\n",
    "            for elem in elem:\n",
    "                Parser.indent_xml_file(elem, level + 1)\n",
    "            if not elem.tail or not elem.tail.strip():\n",
    "                elem.tail = i\n",
    "        else:\n",
    "            if level and (not elem.tail or not elem.tail.strip()):\n",
    "                elem.tail = i\n"
   ]
  },
  {
   "cell_type": "markdown",
   "id": "bab87b99",
   "metadata": {},
   "source": [
    "## Viewport transform objects"
   ]
  },
  {
   "cell_type": "code",
   "execution_count": 5,
   "id": "9c3fd9c8",
   "metadata": {},
   "outputs": [],
   "source": [
    "class ViewportTransform():\n",
    "    def apply_transform(self, window, viewport, objects):\n",
    "        transformed_objects = []\n",
    "        \n",
    "        for objeto in objects:\n",
    "            if isinstance(objeto, Ponto):\n",
    "                transformed_objects.append(self.transform_to_viewport_coordinates(viewport, window, objeto))\n",
    "            elif isinstance(objeto, Reta):\n",
    "                objeto.ponto1 = self.transform_to_viewport_coordinates(viewport, window, objeto.ponto1)\n",
    "                objeto.ponto2 = self.transform_to_viewport_coordinates(viewport, window, objeto.ponto2)\n",
    "                transformed_objects.append(objeto)\n",
    "            elif isinstance(objeto, Poligono):\n",
    "                pontos_transformados = [self.transform_to_viewport_coordinates(viewport, window, ponto) for ponto in objeto.pontos]\n",
    "                objeto.pontos = pontos_transformados\n",
    "                transformed_objects.append(objeto)\n",
    "\n",
    "        return transformed_objects\n",
    "    \n",
    "    def transform_to_viewport_coordinates(self, viewport: Viewport, window: Window, ponto: Ponto):\n",
    "            x_vp = ((ponto.x - window.x_min)/(window.x_max - window.x_min))*(viewport.x_max - viewport.x_min)\n",
    "            y_vp = (1 - ((ponto.y - window.y_min)/(window.y_max - window.y_min)))*(viewport.y_max - viewport.y_min)\n",
    "                \n",
    "            return Ponto(x_vp, y_vp)\n",
    "    "
   ]
  },
  {
   "cell_type": "markdown",
   "id": "28af8ba4",
   "metadata": {},
   "source": [
    "## Viewport"
   ]
  },
  {
   "cell_type": "code",
   "execution_count": 6,
   "id": "fc05a5d4",
   "metadata": {},
   "outputs": [],
   "source": [
    "%matplotlib qt\n",
    "import sys\n",
    "from PyQt5.QtWidgets import QApplication, QLabel, QMainWindow\n",
    "from PyQt5.QtGui import QPainter, QPen, QPixmap\n",
    "from PyQt5.QtCore import Qt"
   ]
  },
  {
   "cell_type": "code",
   "execution_count": 7,
   "id": "df37cc19",
   "metadata": {},
   "outputs": [],
   "source": [
    "class Render(QMainWindow):\n",
    "    def __init__(self, viewport: Viewport):\n",
    "        super().__init__()\n",
    "        \n",
    "        self.setWindowTitle(\"Computação Gráfica\")\n",
    "        self.setGeometry(viewport.x_min-20, viewport.y_min-20, viewport.x_max+20, viewport.y_max+20)\n",
    "\n",
    "        #viewport\n",
    "        self.label = QLabel(self)\n",
    "        self.label.setGeometry(viewport.x_min-10, viewport.y_min-10, viewport.x_max+10, viewport.y_max+10)\n",
    "        \n",
    "        #desenho\n",
    "        self.pixmap = QPixmap(self.label.size())\n",
    "        self.pixmap.fill(Qt.white)\n",
    "        self.painter = QPainter(self.pixmap)\n",
    "        pen = QPen(Qt.black)\n",
    "        pen.setWidth(2)\n",
    "        self.painter.setPen(pen)\n",
    "        \n",
    "    def draw_line(self, reta:Reta):\n",
    "        pixmap = self.label.pixmap()\n",
    "        if not pixmap:\n",
    "            pixmap = QPixmap(self.label.size())\n",
    "            pixmap.fill(Qt.white)\n",
    "\n",
    "        painter = QPainter(pixmap)\n",
    "        pen = QPen(Qt.black)\n",
    "        pen.setWidth(2)\n",
    "        painter.setPen(pen)\n",
    "        \n",
    "        painter.drawLine(int(reta.ponto1.x), int(reta.ponto1.y), int(reta.ponto2.x), int(reta.ponto2.y))\n",
    "        self.label.setPixmap(pixmap)\n",
    "\n",
    "        painter.end()\n",
    "        \n",
    "    def draw_polygon(self, poligono:Poligono):\n",
    "            pontoOrigin = poligono.pontos[0]\n",
    "            \n",
    "            for i in range(0, int(len(poligono.pontos))):\n",
    "                if i == len(poligono.pontos)-1:\n",
    "                    self.draw_line(Reta(poligono.pontos[i], pontoOrigin))\n",
    "                else:\n",
    "                    self.draw_line(Reta(poligono.pontos[i], poligono.pontos[i+1]))\n",
    "                \n",
    "    def draw_point(self, ponto:Ponto):\n",
    "        pixmap = self.label.pixmap()\n",
    "        if not pixmap:\n",
    "            pixmap = QPixmap(self.label.size())\n",
    "            pixmap.fill(Qt.white)\n",
    "\n",
    "        painter = QPainter(pixmap)\n",
    "        pen = QPen(Qt.black)\n",
    "        pen.setWidth(2)\n",
    "        painter.setPen(pen)\n",
    "        \n",
    "        painter.drawPoint(int(ponto.x), int(ponto.y))\n",
    "        self.label.setPixmap(pixmap)\n",
    "        \n",
    "        painter.end()\n",
    "    \n",
    "    def render_objects(self, objects):\n",
    "        for object in objects:\n",
    "            if isinstance(object, Ponto):\n",
    "                self.draw_point(object)\n",
    "            elif isinstance(object, Reta):\n",
    "                self.draw_line(object)\n",
    "            elif isinstance(object, Poligono):\n",
    "                self.draw_polygon(object)"
   ]
  },
  {
   "cell_type": "markdown",
   "id": "c2c8a2f1",
   "metadata": {},
   "source": [
    "## Main"
   ]
  },
  {
   "cell_type": "code",
   "execution_count": 9,
   "id": "4f51a8bf",
   "metadata": {},
   "outputs": [],
   "source": [
    "class main():\n",
    "    \n",
    "    viewport, window, objetos = Parser.parse_xml_file(\"./input/entrada.xml\")\n",
    "\n",
    "    transform = ViewportTransform()\n",
    "    transformed_objects = transform.apply_transform(window, viewport, objects=objetos)\n",
    "\n",
    "    window = Render(viewport)\n",
    "    window.render_objects(transformed_objects)\n",
    "    window.show()\n",
    "    Parser.write_to_xml_file(transformed_objects)\n",
    "\n",
    "if __name__ == \"main\":\n",
    "    main()"
   ]
  }
 ],
 "metadata": {
  "kernelspec": {
   "display_name": "Python 3 (ipykernel)",
   "language": "python",
   "name": "python3"
  },
  "language_info": {
   "codemirror_mode": {
    "name": "ipython",
    "version": 3
   },
   "file_extension": ".py",
   "mimetype": "text/x-python",
   "name": "python",
   "nbconvert_exporter": "python",
   "pygments_lexer": "ipython3",
   "version": "3.10.9"
  }
 },
 "nbformat": 4,
 "nbformat_minor": 5
}
