{
 "cells": [
  {
   "cell_type": "markdown",
   "id": "a2df3f41",
   "metadata": {},
   "source": [
    "## Instalação Dependencias"
   ]
  },
  {
   "cell_type": "code",
   "execution_count": 1,
   "id": "05dc4556",
   "metadata": {
    "scrolled": false
   },
   "outputs": [
    {
     "name": "stdout",
     "output_type": "stream",
     "text": [
      "Defaulting to user installation because normal site-packages is not writeable\n",
      "Requirement already satisfied: PyQt5 in /home/gabriel/.local/lib/python3.10/site-packages (5.15.10)\n",
      "Requirement already satisfied: PyQt5-Qt5>=5.15.2 in /home/gabriel/.local/lib/python3.10/site-packages (from PyQt5) (5.15.2)\n",
      "Requirement already satisfied: PyQt5-sip<13,>=12.13 in /home/gabriel/.local/lib/python3.10/site-packages (from PyQt5) (12.13.0)\n",
      "Note: you may need to restart the kernel to use updated packages.\n"
     ]
    }
   ],
   "source": [
    "pip install PyQt5\n"
   ]
  },
  {
   "cell_type": "markdown",
   "id": "c054f9f5",
   "metadata": {},
   "source": [
    "## Classes"
   ]
  },
  {
   "cell_type": "code",
   "execution_count": 2,
   "id": "ff9cd4c4",
   "metadata": {},
   "outputs": [],
   "source": [
    "class Window:\n",
    "    x_min: int\n",
    "    y_min: int\n",
    "    x_max: int\n",
    "    y_max: int\n",
    "    \n",
    "    def __init__(self, x_min, y_min, x_max, y_max):\n",
    "        self.x_min = x_min\n",
    "        self.y_min = y_min\n",
    "        self.x_max = x_max\n",
    "        self.y_max = y_max\n",
    "\n",
    "class Viewport:\n",
    "    x_min: int\n",
    "    y_min: int\n",
    "    x_max: int\n",
    "    y_max: int\n",
    "    \n",
    "    def __init__(self, x_min, y_min, x_max, y_max):\n",
    "        self.x_min = x_min\n",
    "        self.y_min = y_min\n",
    "        self.x_max = x_max\n",
    "        self.y_max = y_max\n",
    "        \n",
    "class Ponto:\n",
    "    x: int\n",
    "    y: int\n",
    "    \n",
    "    def __init__(self, x, y):\n",
    "        self.x = x\n",
    "        self.y = y\n",
    "\n",
    "class Reta:\n",
    "    def __init__(self, ponto1, ponto2):\n",
    "        self.ponto1 = ponto1\n",
    "        self.ponto2 = ponto2\n",
    "        \n",
    "class Poligono:\n",
    "    def __init__(self, pontos):\n",
    "        self.pontos = pontos "
   ]
  },
  {
   "cell_type": "markdown",
   "id": "060ad23a",
   "metadata": {},
   "source": [
    "## Transformação"
   ]
  },
  {
   "cell_type": "code",
   "execution_count": 3,
   "id": "5a7ec2bb",
   "metadata": {},
   "outputs": [],
   "source": [
    "def transformacao(viewport: Viewport, window: Window, ponto: Ponto):\n",
    "    x_vp = ((ponto.x - window.x_min)/(window.x_max - window.x_min))*(viewport.x_max - viewport.x_min)\n",
    "    y_vp = (1 - ((ponto.y - window.y_min)/(window.y_max - window.y_min)))*(viewport.y_max - viewport.y_min)\n",
    "        \n",
    "    return Ponto(x_vp, y_vp)"
   ]
  },
  {
   "cell_type": "markdown",
   "id": "7d7c3e9f",
   "metadata": {},
   "source": [
    "## Parser XML"
   ]
  },
  {
   "cell_type": "code",
   "execution_count": 4,
   "id": "874c5c11",
   "metadata": {},
   "outputs": [],
   "source": [
    "import xml.etree.ElementTree as ET\n",
    "\n",
    "def parse_xml(filename):\n",
    "    tree = ET.parse(filename)\n",
    "    root = tree.getroot()\n",
    "\n",
    "    objetos = []\n",
    "    \n",
    "    vp_min = root.find(\"./viewport/vpmin\")\n",
    "    vp_max = root.find(\"./viewport/vpmax\")\n",
    "    viewport = Viewport(int(vp_min.attrib['x']), int(vp_min.attrib['y']), int(vp_max.attrib['x']), int(vp_max.attrib['y']))\n",
    "\n",
    " \n",
    "    w_min = root.find(\"./window/wmin\")\n",
    "    w_max = root.find(\"./window/wmax\")\n",
    "    window = Window(float(w_min.attrib['x']), float(w_min.attrib['y']), float(w_max.attrib['x']), float(w_max.attrib['y']))\n",
    "\n",
    "    for ponto in root.findall(\"./ponto\"):\n",
    "        objetos.append(Ponto(float(ponto.attrib['x']), float(ponto.attrib['y'])))\n",
    "\n",
    "    for reta in root.findall(\"./reta\"):\n",
    "        ponto1 = reta.find(\"ponto[1]\")\n",
    "        ponto2 = reta.find(\"ponto[2]\")\n",
    "        objetos.append(Reta(Ponto(float(ponto1.attrib['x']), float(ponto1.attrib['y'])), Ponto(float(ponto2.attrib['x']), float(ponto2.attrib['y']))))\n",
    "\n",
    "    for poligono in root.findall(\"./poligono\"):\n",
    "        pontos = []\n",
    "        for ponto in poligono.findall(\"ponto\"):\n",
    "            pontos.append(Ponto(float(ponto.attrib['x']), float(ponto.attrib['y'])))\n",
    "        objetos.append(Poligono(pontos))\n",
    "        \n",
    "    return viewport, window, objetos"
   ]
  },
  {
   "cell_type": "markdown",
   "id": "bab87b99",
   "metadata": {},
   "source": [
    "## Viewport transform"
   ]
  },
  {
   "cell_type": "code",
   "execution_count": 5,
   "id": "9c3fd9c8",
   "metadata": {},
   "outputs": [],
   "source": [
    "class viewportTransform():\n",
    "    def __init__(self, window, viewport, objetos):\n",
    "        for i in range(len(objetos)):\n",
    "            if isinstance(objetos[i], Ponto):\n",
    "                objetos[i] = transformacao(viewport, window, objetos[i])\n",
    "            if isinstance(objetos[i], Reta):\n",
    "                objetos[i].ponto1 = transformacao(viewport, window, objetos[i].ponto1)\n",
    "                objetos[i].ponto2 = transformacao(viewport, window, objetos[i].ponto2)\n",
    "            if isinstance(objetos[i], Poligono):\n",
    "                for j, ponto in enumerate(objetos[i].pontos):\n",
    "                    objetos[i].pontos[j] = transformacao(viewport, window, ponto)"
   ]
  },
  {
   "cell_type": "markdown",
   "id": "28af8ba4",
   "metadata": {},
   "source": [
    "## Viewport"
   ]
  },
  {
   "cell_type": "code",
   "execution_count": 6,
   "id": "fc05a5d4",
   "metadata": {},
   "outputs": [],
   "source": [
    "%matplotlib qt\n",
    "import sys\n",
    "from PyQt5.QtWidgets import QApplication, QLabel, QMainWindow\n",
    "from PyQt5.QtGui import QPainter, QPen, QPixmap\n",
    "from PyQt5.QtCore import Qt"
   ]
  },
  {
   "cell_type": "code",
   "execution_count": 7,
   "id": "df37cc19",
   "metadata": {},
   "outputs": [],
   "source": [
    "class MainWindow(QMainWindow):\n",
    "    def __init__(self, viewport: Viewport):\n",
    "        super().__init__()\n",
    "        \n",
    "        self.setWindowTitle(\"Computação Gráfica\")\n",
    "        self.setGeometry(viewport.x_min-20, viewport.y_min-20, viewport.x_max+20, viewport.y_max+20)\n",
    "\n",
    "        #viewport\n",
    "        self.label = QLabel(self)\n",
    "        self.label.setGeometry(viewport.x_min-10, viewport.y_min-10, viewport.x_max+10, viewport.y_max+10)\n",
    "        \n",
    "        #desenho\n",
    "        self.pixmap = QPixmap(self.label.size())\n",
    "        self.pixmap.fill(Qt.white)\n",
    "        self.painter = QPainter(self.pixmap)\n",
    "        pen = QPen(Qt.black)\n",
    "        pen.setWidth(2)\n",
    "        self.painter.setPen(pen)\n",
    "        \n",
    "    def draw_line(self, reta:Reta):\n",
    "        pixmap = self.label.pixmap()\n",
    "        if not pixmap:\n",
    "            pixmap = QPixmap(self.label.size())\n",
    "            pixmap.fill(Qt.white)\n",
    "\n",
    "        painter = QPainter(pixmap)\n",
    "        pen = QPen(Qt.black)\n",
    "        pen.setWidth(2)\n",
    "        painter.setPen(pen)\n",
    "        \n",
    "        painter.drawLine(int(reta.ponto1.x), int(reta.ponto1.y), int(reta.ponto2.x), int(reta.ponto2.y))\n",
    "        painter.end()\n",
    "\n",
    "        self.label.setPixmap(pixmap)\n",
    "        \n",
    "    def draw_polygon(self, poligono:Poligono):\n",
    "            pontoOrigin = poligono.pontos[0]\n",
    "            \n",
    "            for i in range(0, int(len(poligono.pontos))):\n",
    "                if i == len(poligono.pontos)-1:\n",
    "                    self.draw_line(Reta(poligono.pontos[i], pontoOrigin))\n",
    "                else:\n",
    "                    self.draw_line(Reta(poligono.pontos[i], poligono.pontos[i+1]))\n",
    "                \n",
    "    def draw_point(self, ponto:Ponto):\n",
    "        pixmap = self.label.pixmap()\n",
    "        if not pixmap:\n",
    "            pixmap = QPixmap(self.label.size())\n",
    "            pixmap.fill(Qt.white)\n",
    "\n",
    "        painter = QPainter(pixmap)\n",
    "        pen = QPen(Qt.black)\n",
    "        pen.setWidth(2)\n",
    "        painter.setPen(pen)\n",
    "        \n",
    "        print(ponto.x, ponto.y)\n",
    "        \n",
    "        painter.drawPoint(int(ponto.x), int(ponto.y))\n",
    "        painter.end()\n",
    "        \n",
    "        self.label.setPixmap(pixmap)"
   ]
  },
  {
   "cell_type": "markdown",
   "id": "c2c8a2f1",
   "metadata": {},
   "source": [
    "## Main"
   ]
  },
  {
   "cell_type": "code",
   "execution_count": 10,
   "id": "4f51a8bf",
   "metadata": {},
   "outputs": [
    {
     "name": "stdout",
     "output_type": "stream",
     "text": [
      "0.0 368.0\n",
      "124.0 276.0\n",
      "248.0 184.0\n"
     ]
    }
   ],
   "source": [
    "\n",
    "class main():\n",
    "    viewport, window, objetos = parse_xml(\"./input/entrada.xml\")\n",
    "\n",
    "    viewportTransform(window, viewport, objetos)\n",
    "\n",
    "    window = MainWindow(viewport)\n",
    "\n",
    "    window.show()\n",
    "    window.draw_point(objetos[0])\n",
    "    window.draw_point(objetos[1])\n",
    "    window.draw_point(objetos[2])\n",
    "\n",
    "    window.draw_line(objetos[3])\n",
    "    window.draw_line(objetos[4])\n",
    "\n",
    "    window.draw_polygon(objetos[5])\n",
    "    \n",
    "if __name__ == 'main':\n",
    "    main()"
   ]
  }
 ],
 "metadata": {
  "kernelspec": {
   "display_name": "Python 3 (ipykernel)",
   "language": "python",
   "name": "python3"
  },
  "language_info": {
   "codemirror_mode": {
    "name": "ipython",
    "version": 3
   },
   "file_extension": ".py",
   "mimetype": "text/x-python",
   "name": "python",
   "nbconvert_exporter": "python",
   "pygments_lexer": "ipython3",
   "version": "3.10.12"
  }
 },
 "nbformat": 4,
 "nbformat_minor": 5
}
