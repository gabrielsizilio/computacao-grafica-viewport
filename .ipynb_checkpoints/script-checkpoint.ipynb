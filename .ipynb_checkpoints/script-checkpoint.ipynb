{
 "cells": [
  {
   "cell_type": "code",
   "execution_count": null,
   "id": "370a63b4",
   "metadata": {},
   "outputs": [],
   "source": [
    "print(\"Ola mundo\")"
   ]
  },
  {
   "cell_type": "code",
   "execution_count": 1,
   "id": "05dc4556",
   "metadata": {
    "scrolled": false
   },
   "outputs": [
    {
     "name": "stdout",
     "output_type": "stream",
     "text": [
      "Requirement already satisfied: PyQt5 in c:\\users\\yodem\\anaconda3\\lib\\site-packages (5.15.7)\n",
      "Requirement already satisfied: PyQt5-sip<13,>=12.11 in c:\\users\\yodem\\anaconda3\\lib\\site-packages (from PyQt5) (12.11.0)\n",
      "Note: you may need to restart the kernel to use updated packages.\n"
     ]
    }
   ],
   "source": [
    "\n",
    "pip install PyQt5"
   ]
  },
  {
   "cell_type": "markdown",
   "id": "7d7c3e9f",
   "metadata": {},
   "source": [
    "## Parser XML"
   ]
  },
  {
   "cell_type": "code",
   "execution_count": null,
   "id": "708de5d7",
   "metadata": {},
   "outputs": [],
   "source": []
  },
  {
   "cell_type": "code",
   "execution_count": 1,
   "id": "df37cc19",
   "metadata": {},
   "outputs": [
    {
     "ename": "SystemExit",
     "evalue": "0",
     "output_type": "error",
     "traceback": [
      "An exception has occurred, use %tb to see the full traceback.\n",
      "\u001b[1;31mSystemExit\u001b[0m\u001b[1;31m:\u001b[0m 0\n"
     ]
    },
    {
     "name": "stderr",
     "output_type": "stream",
     "text": [
      "C:\\Users\\yodem\\anaconda3\\lib\\site-packages\\IPython\\core\\interactiveshell.py:3468: UserWarning: To exit: use 'exit', 'quit', or Ctrl-D.\n",
      "  warn(\"To exit: use 'exit', 'quit', or Ctrl-D.\", stacklevel=1)\n"
     ]
    }
   ],
   "source": [
    "%matplotlib qt\n",
    "import sys\n",
    "from PyQt5.QtWidgets import QApplication, QLabel, QMainWindow\n",
    "from PyQt5.QtGui import QPainter, QPen, QPixmap\n",
    "from PyQt5.QtCore import Qt\n",
    "\n",
    "class MainWindow(QMainWindow):\n",
    "    def __init__(self):\n",
    "        super().__init__()\n",
    "\n",
    "        self.setWindowTitle(\"Plotar Reta\")\n",
    "        self.setGeometry(100, 100, 400, 400)\n",
    "\n",
    "        self.label = QLabel(self)\n",
    "        self.label.setGeometry(10, 10, 380, 380)\n",
    "\n",
    "        self.draw_line()\n",
    "\n",
    "    def draw_line(self):\n",
    "        pixmap = self.label.pixmap()\n",
    "        if not pixmap:\n",
    "            pixmap = QPixmap(self.label.size())\n",
    "            pixmap.fill(Qt.white)\n",
    "\n",
    "        painter = QPainter(pixmap)\n",
    "        pen = QPen(Qt.black)\n",
    "        pen.setWidth(2)\n",
    "        painter.setPen(pen)\n",
    "\n",
    "        # Coordenadas dos pontos inicial e final da reta\n",
    "        x1, y1 = 50, 50\n",
    "        x2, y2 = 350, 350\n",
    "\n",
    "        painter.drawLine(x1, y1, x2, y2)\n",
    "#         painter.drawLine(y2, x2, y2, x1)\n",
    "#         painter.drawLine(x1, y1, y2, x1)\n",
    "        painter.end()\n",
    "\n",
    "        self.label.setPixmap(pixmap)\n",
    "\n",
    "\n",
    "if __name__ == \"__main__\":\n",
    "    app = QApplication(sys.argv)\n",
    "    window = MainWindow()\n",
    "    window.show()\n",
    "    sys.exit(app.exec_())\n"
   ]
  },
  {
   "cell_type": "code",
   "execution_count": null,
   "id": "a275d04f",
   "metadata": {},
   "outputs": [],
   "source": []
  },
  {
   "cell_type": "code",
   "execution_count": null,
   "id": "5f4ffee9",
   "metadata": {},
   "outputs": [],
   "source": []
  }
 ],
 "metadata": {
  "kernelspec": {
   "display_name": "Python 3 (ipykernel)",
   "language": "python",
   "name": "python3"
  },
  "language_info": {
   "codemirror_mode": {
    "name": "ipython",
    "version": 3
   },
   "file_extension": ".py",
   "mimetype": "text/x-python",
   "name": "python",
   "nbconvert_exporter": "python",
   "pygments_lexer": "ipython3",
   "version": "3.10.9"
  }
 },
 "nbformat": 4,
 "nbformat_minor": 5
}
